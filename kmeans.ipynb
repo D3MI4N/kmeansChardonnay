{
 "cells": [
  {
   "cell_type": "code",
   "execution_count": 1,
   "metadata": {},
   "outputs": [],
   "source": [
    "#import dependencies\n",
    "import pandas as pd\n",
    "import numpy as np\n",
    "import matplotlib.pyplot as plt\n",
    "import seaborn as sns\n",
    "import re\n",
    "from sklearn import preprocessing, decomposition, model_selection, metrics, pipeline\n",
    "from sklearn.feature_extraction.text import TfidfVectorizer, CountVectorizer\n",
    "from sklearn.cluster import KMeans\n",
    "import nltk\n",
    "from nltk.stem.wordnet import WordNetLemmatizer\n",
    "from nltk.corpus import stopwords\n",
    "import sqlite3\n",
    "from sqlite3 import Error\n",
    "#force output to display the full description\n",
    "pd.set_option('display.max_colwidth', -1)\n"
   ]
  },
  {
   "cell_type": "code",
   "execution_count": 2,
   "metadata": {},
   "outputs": [],
   "source": [
    "conn = sqlite3.connect('db\\wine_data.sqlite')\n",
    "c = conn.cursor()"
   ]
  },
  {
   "cell_type": "code",
   "execution_count": 3,
   "metadata": {},
   "outputs": [
    {
     "data": {
      "text/html": [
       "<div>\n",
       "<style scoped>\n",
       "    .dataframe tbody tr th:only-of-type {\n",
       "        vertical-align: middle;\n",
       "    }\n",
       "\n",
       "    .dataframe tbody tr th {\n",
       "        vertical-align: top;\n",
       "    }\n",
       "\n",
       "    .dataframe thead th {\n",
       "        text-align: right;\n",
       "    }\n",
       "</style>\n",
       "<table border=\"1\" class=\"dataframe\">\n",
       "  <thead>\n",
       "    <tr style=\"text-align: right;\">\n",
       "      <th></th>\n",
       "      <th>country</th>\n",
       "      <th>description</th>\n",
       "      <th>rating</th>\n",
       "      <th>price</th>\n",
       "      <th>title</th>\n",
       "      <th>variety</th>\n",
       "    </tr>\n",
       "  </thead>\n",
       "  <tbody>\n",
       "    <tr>\n",
       "      <th>0</th>\n",
       "      <td>Portugal</td>\n",
       "      <td>A wood-aged Chardonnay from mountain vineyards above the Douro. The wine has spice, yellow fruits and a strong toast character. Acidity is there to add some freshness to the concentrated, rounded taste.</td>\n",
       "      <td>91</td>\n",
       "      <td>25.0</td>\n",
       "      <td>Real Companhia Velha 2009 Quinta de Cidrô Reserva Chardonnay (Duriense)</td>\n",
       "      <td>Chardonnay</td>\n",
       "    </tr>\n",
       "    <tr>\n",
       "      <th>1</th>\n",
       "      <td>Portugal</td>\n",
       "      <td>This oak-fermented wine may have little connection to the Douro, but it is a full, ripe and tropical-fruit flavored. The toast is only perceptible in the smooth creaminess of the texture while acidity and a crisp lemon edge give the wine an attractive final lift. Drink from late 2016.</td>\n",
       "      <td>88</td>\n",
       "      <td>25.0</td>\n",
       "      <td>Real Companhia Velha 2014 Quinta de Cidrô Chardonnay (Duriense)</td>\n",
       "      <td>Chardonnay</td>\n",
       "    </tr>\n",
       "    <tr>\n",
       "      <th>2</th>\n",
       "      <td>Portugal</td>\n",
       "      <td>Ripe, fruity Chardonnay, with toast flavors balancing with smooth apricot and pear juice. The wine is soft, rich and generous, finishing with a light acidity.</td>\n",
       "      <td>88</td>\n",
       "      <td>20.0</td>\n",
       "      <td>Bacalhôa Wines of Portugal 2008 Cova da Ursa Chardonnay (Península de Setúbal)</td>\n",
       "      <td>Chardonnay</td>\n",
       "    </tr>\n",
       "    <tr>\n",
       "      <th>3</th>\n",
       "      <td>Portugal</td>\n",
       "      <td>A wine made in memory of Catherine (Caterina) of Bragança, a Portuguese princess who married Charles II of England in the 17th century. It is a superripe wine, full of tropical fruit flavors and only the lightest of acidity. Wood aging gives the wine a plush character and suggests it could age for another year. Drink from 2016.</td>\n",
       "      <td>88</td>\n",
       "      <td>10.0</td>\n",
       "      <td>Bacalhôa Wines of Portugal 2013 Catarina Chardonnay (Península de Setúbal)</td>\n",
       "      <td>Chardonnay</td>\n",
       "    </tr>\n",
       "    <tr>\n",
       "      <th>4</th>\n",
       "      <td>Portugal</td>\n",
       "      <td>The chalk soil of the Cova da Ursa vineyard, high up on the Azeitão mountains, yields this rich, tropical-fruited Chardonnay. It is ripe with apricot and mango flavors that are smoothed out by the wood aging. Toast and fresh acidity are still balancing out, so this impressive wine needs to age. Drink from 2016.</td>\n",
       "      <td>92</td>\n",
       "      <td>19.0</td>\n",
       "      <td>Bacalhôa Wines of Portugal 2013 Cova da Ursa Chardonnay (Península de Setúbal)</td>\n",
       "      <td>Chardonnay</td>\n",
       "    </tr>\n",
       "  </tbody>\n",
       "</table>\n",
       "</div>"
      ],
      "text/plain": [
       "    country  \\\n",
       "0  Portugal   \n",
       "1  Portugal   \n",
       "2  Portugal   \n",
       "3  Portugal   \n",
       "4  Portugal   \n",
       "\n",
       "                                                                                                                                                                                                                                                                                                                                 description  \\\n",
       "0  A wood-aged Chardonnay from mountain vineyards above the Douro. The wine has spice, yellow fruits and a strong toast character. Acidity is there to add some freshness to the concentrated, rounded taste.                                                                                                                                  \n",
       "1  This oak-fermented wine may have little connection to the Douro, but it is a full, ripe and tropical-fruit flavored. The toast is only perceptible in the smooth creaminess of the texture while acidity and a crisp lemon edge give the wine an attractive final lift. Drink from late 2016.                                               \n",
       "2  Ripe, fruity Chardonnay, with toast flavors balancing with smooth apricot and pear juice. The wine is soft, rich and generous, finishing with a light acidity.                                                                                                                                                                              \n",
       "3  A wine made in memory of Catherine (Caterina) of Bragança, a Portuguese princess who married Charles II of England in the 17th century. It is a superripe wine, full of tropical fruit flavors and only the lightest of acidity. Wood aging gives the wine a plush character and suggests it could age for another year. Drink from 2016.   \n",
       "4  The chalk soil of the Cova da Ursa vineyard, high up on the Azeitão mountains, yields this rich, tropical-fruited Chardonnay. It is ripe with apricot and mango flavors that are smoothed out by the wood aging. Toast and fresh acidity are still balancing out, so this impressive wine needs to age. Drink from 2016.                    \n",
       "\n",
       "   rating  price  \\\n",
       "0  91      25.0    \n",
       "1  88      25.0    \n",
       "2  88      20.0    \n",
       "3  88      10.0    \n",
       "4  92      19.0    \n",
       "\n",
       "                                                                            title  \\\n",
       "0  Real Companhia Velha 2009 Quinta de Cidrô Reserva Chardonnay (Duriense)          \n",
       "1  Real Companhia Velha 2014 Quinta de Cidrô Chardonnay (Duriense)                  \n",
       "2  Bacalhôa Wines of Portugal 2008 Cova da Ursa Chardonnay (Península de Setúbal)   \n",
       "3  Bacalhôa Wines of Portugal 2013 Catarina Chardonnay (Península de Setúbal)       \n",
       "4  Bacalhôa Wines of Portugal 2013 Cova da Ursa Chardonnay (Península de Setúbal)   \n",
       "\n",
       "      variety  \n",
       "0  Chardonnay  \n",
       "1  Chardonnay  \n",
       "2  Chardonnay  \n",
       "3  Chardonnay  \n",
       "4  Chardonnay  "
      ]
     },
     "execution_count": 3,
     "metadata": {},
     "output_type": "execute_result"
    }
   ],
   "source": [
    "df = pd.read_sql(\"Select country, description, rating, price, title, variety from wine_data where variety = 'Chardonnay'\", conn)\n",
    "df.head()"
   ]
  },
  {
   "cell_type": "code",
   "execution_count": 4,
   "metadata": {},
   "outputs": [],
   "source": [
    "#add a column for the word count\n",
    "df['word_count'] = df['description'].apply(lambda x: len(str(x).split(\" \")))"
   ]
  },
  {
   "cell_type": "code",
   "execution_count": 5,
   "metadata": {
    "scrolled": false
   },
   "outputs": [
    {
     "name": "stdout",
     "output_type": "stream",
     "text": [
      "Word Count Median: 38.0\n",
      "count    10234.000000\n",
      "mean     38.372777   \n",
      "std      10.945120   \n",
      "min      3.000000    \n",
      "25%      31.000000   \n",
      "50%      38.000000   \n",
      "75%      45.000000   \n",
      "max      92.000000   \n",
      "Name: word_count, dtype: float64\n"
     ]
    },
    {
     "data": {
      "image/png": "[encoded data removed]",
      "text/plain": [
       "<Figure size 432x288 with 1 Axes>"
      ]
     },
     "metadata": {
      "needs_background": "light"
     },
     "output_type": "display_data"
    }
   ],
   "source": [
    "# print(df['rating'].unique())\n",
    "# print(\"Number of Unique Ratings: \" + str(len(df['rating'].unique())))\n",
    "# print(\"Rating Median: \" + str(df['rating'].median()))\n",
    "# print(df['rating'].describe())\n",
    "\n",
    "# print(\"Number of Unique prices: \" + str(len(df['price'].unique())))\n",
    "# print(\"Price Median: \" + str(df['price'].median()))\n",
    "# print(df['price'].describe())\n",
    "\n",
    "print(\"Word Count Median: \" + str(df['word_count'].median()))\n",
    "print(df['word_count'].describe())\n",
    "\n",
    "x = df['word_count']\n",
    "n_bins = 95\n",
    "\n",
    "plt.hist(x, bins=n_bins)\n",
    "plt.xlabel('Number of Words in Description')\n",
    "plt.ylabel('Frequency')\n",
    "plt.show()"
   ]
  },
  {
   "cell_type": "code",
   "execution_count": 6,
   "metadata": {},
   "outputs": [
    {
     "name": "stdout",
     "output_type": "stream",
     "text": [
      "82.0\n",
      "count    64.000000\n",
      "mean     82.609375\n",
      "std      1.796091 \n",
      "min      80.000000\n",
      "25%      82.000000\n",
      "50%      82.000000\n",
      "75%      83.250000\n",
      "max      89.000000\n",
      "Name: rating, dtype: float64\n"
     ]
    }
   ],
   "source": [
    "wc15 = df.loc[df['word_count'] < 15]\n",
    "print(wc15.rating.median())\n",
    "print(wc15.rating.describe())\n"
   ]
  },
  {
   "cell_type": "code",
   "execution_count": 7,
   "metadata": {
    "scrolled": true
   },
   "outputs": [
    {
     "data": {
      "text/plain": [
       "Text(0.5, 1.0, 'Rating Counts')"
      ]
     },
     "execution_count": 7,
     "metadata": {},
     "output_type": "execute_result"
    },
    {
     "data": {
      "image/png": "[encoded data removed]",
      "text/plain": [
       "<Figure size 1008x288 with 1 Axes>"
      ]
     },
     "metadata": {
      "needs_background": "light"
     },
     "output_type": "display_data"
    }
   ],
   "source": [
    "plt.figure(figsize=(14,4))\n",
    "sns.countplot(x ='rating', data = wc15).set_title(\"Rating Counts\")"
   ]
  },
  {
   "cell_type": "code",
   "execution_count": 8,
   "metadata": {},
   "outputs": [
    {
     "name": "stdout",
     "output_type": "stream",
     "text": [
      "93.0\n",
      "count    52.000000\n",
      "mean     92.519231\n",
      "std      2.630816 \n",
      "min      85.000000\n",
      "25%      91.000000\n",
      "50%      93.000000\n",
      "75%      94.000000\n",
      "max      98.000000\n",
      "Name: rating, dtype: float64\n"
     ]
    }
   ],
   "source": [
    "wc70 = df.loc[df['word_count'] > 70]\n",
    "print(wc70.rating.median())\n",
    "print(wc70.rating.describe())"
   ]
  },
  {
   "cell_type": "code",
   "execution_count": 9,
   "metadata": {},
   "outputs": [
    {
     "name": "stdout",
     "output_type": "stream",
     "text": [
      "Number of Unique Ratings: 21\n",
      "Rating Median: 88.0\n",
      "count    10234.000000\n",
      "mean     88.283662   \n",
      "std      3.284805    \n",
      "min      80.000000   \n",
      "25%      86.000000   \n",
      "50%      88.000000   \n",
      "75%      91.000000   \n",
      "max      100.000000  \n",
      "Name: rating, dtype: float64\n"
     ]
    },
    {
     "data": {
      "image/png": "[encoded data removed]",
      "text/plain": [
       "<Figure size 1008x288 with 1 Axes>"
      ]
     },
     "metadata": {
      "needs_background": "light"
     },
     "output_type": "display_data"
    }
   ],
   "source": [
    "print(\"Number of Unique Ratings: \" + str(len(df['rating'].unique())))\n",
    "print(\"Rating Median: \" + str(df['rating'].median()))\n",
    "print(df['rating'].describe())\n",
    "plt.figure(figsize=(14,4))\n",
    "sns.countplot(x='rating', data=df).set_title(\"Rating Counts\")\n",
    "plt.show()\n",
    "\n",
    "df['above_avg'] = [1 if rating > 88 else 0 for rating in df['rating']] "
   ]
  },
  {
   "cell_type": "code",
   "execution_count": 10,
   "metadata": {},
   "outputs": [
    {
     "name": "stdout",
     "output_type": "stream",
     "text": [
      "179\n"
     ]
    }
   ],
   "source": [
    "df['above_avg'] = [1 if rating > 88 else 0 for rating in df['rating']] \n",
    "#create a list of stop words\n",
    "stop_words = set(stopwords.words(\"english\"))\n",
    "#show how many words are in the list of stop words\n",
    "print(len(stop_words))\n",
    "\n",
    "\n",
    "#179\n",
    "\n",
    "add_stopwords = [\"wine\", \"drink\", \"chardonnay\"]\n",
    "stop_words = stop_words.union(add_stopwords)"
   ]
  },
  {
   "cell_type": "code",
   "execution_count": 11,
   "metadata": {},
   "outputs": [],
   "source": [
    "import re\n",
    "clean_desc = []\n",
    "for w in range(len(df.description)):\n",
    "    desc = df['description'][w].lower()\n",
    "    \n",
    "    #remove punctuations\n",
    "    desc = re.sub('[^a-zA-Z]', ' ', desc)\n",
    "    \n",
    "    #remove tags\n",
    "    desc=re.sub(\"&lt;/?.*?&gt;\",\" &lt;&gt; \",desc)\n",
    "    \n",
    "    #remove special characters and digits\n",
    "    desc=re.sub(\"(\\\\d|\\\\W)+\",\" \",desc)\n",
    "    \n",
    "    split_text = desc.split()\n",
    "    \n",
    "    #Lemmatisation\n",
    "    lem = WordNetLemmatizer()\n",
    "    split_text = [lem.lemmatize(word) for word in split_text if not word in stop_words and len(word) >2] \n",
    "    split_text = \" \".join(split_text)\n",
    "    clean_desc.append(split_text)\n",
    "    \n",
    "    \n",
    "#clean_desc"
   ]
  },
  {
   "cell_type": "code",
   "execution_count": 12,
   "metadata": {},
   "outputs": [],
   "source": [
    "tfv = TfidfVectorizer(stop_words = stop_words, ngram_range = (1,1))\n",
    "vec_text = tfv.fit_transform(clean_desc)"
   ]
  },
  {
   "cell_type": "code",
   "execution_count": 13,
   "metadata": {},
   "outputs": [
    {
     "data": {
      "text/plain": [
       "KMeans(algorithm='auto', copy_x=True, init='k-means++', max_iter=200,\n",
       "    n_clusters=21, n_init=17, n_jobs=-1, precompute_distances='auto',\n",
       "    random_state=None, tol=0.01, verbose=0)"
      ]
     },
     "execution_count": 13,
     "metadata": {},
     "output_type": "execute_result"
    }
   ],
   "source": [
    "kmeans = KMeans(n_clusters = 21, n_init = 17, n_jobs = -1, tol=0.01, max_iter=200)\n",
    "kmeans.fit(vec_text)"
   ]
  },
  {
   "cell_type": "code",
   "execution_count": 14,
   "metadata": {},
   "outputs": [],
   "source": [
    "# mkm = MiniBatchKMeans(n_clusters=21, init='k-means++', max_iter=200, batch_size=500\n",
    "#                       , n_init=15)\n",
    "# mkm.fit(vec_text)\n"
   ]
  },
  {
   "cell_type": "code",
   "execution_count": 15,
   "metadata": {},
   "outputs": [
    {
     "data": {
      "text/plain": [
       "'wondrously'"
      ]
     },
     "execution_count": 15,
     "metadata": {},
     "output_type": "execute_result"
    }
   ],
   "source": [
    "#words = tfv.get_feature_names()\n",
    "words = tfv.get_feature_names()\n",
    "words[8604]"
   ]
  },
  {
   "cell_type": "code",
   "execution_count": 16,
   "metadata": {},
   "outputs": [
    {
     "data": {
      "text/plain": [
       "array([[8357,  309, 5125, 4270, 5447, 6880, 2870,   60, 4800, 2560],\n",
       "       [7114,  359,  309, 5095, 2870, 5369, 5447, 2924, 3103, 4234],\n",
       "       [5031, 3100, 5125, 2924, 3130,  129,  309, 4869,  542, 5095],\n",
       "       [3130, 2924, 2870, 1351,  309,  359, 5369, 7965, 5440, 8539],\n",
       "       [2287, 2924,   60, 1794, 5125,  778, 5593, 4335, 4801, 3130],\n",
       "       [7809, 4799, 1794, 7740,   60, 3130, 1230, 7267, 1351,  709],\n",
       "       [3137, 6091,  423, 7002,   60, 1794, 4312, 7740, 3103,  123],\n",
       "       [6848, 7541, 5593, 2924, 5230, 7424,  330, 4050, 8263, 3988],\n",
       "       [4686,  756, 2870,  309, 2924,  359, 5095, 5369, 5447, 3130],\n",
       "       [5088, 4270, 5369, 4335,  309,  807, 6794,  359, 5447, 5618],\n",
       "       [2822,  542, 7186, 7238,  129, 5125, 3130, 3100, 2924,  309],\n",
       "       [8651,  126, 3130, 8605, 6349,  139, 7350,   60, 5005, 6324],\n",
       "       [6509, 6615, 5088, 4270,  807, 5369, 6794,  309, 1003,  359],\n",
       "       [4323, 7646, 6960, 2924, 7541, 2870,  359, 3130, 5447,  309],\n",
       "       [5593, 2924, 5125,   60, 6324, 7965, 6349, 3130, 6969, 8263],\n",
       "       [3149,  756, 2924, 2870,  309, 6324, 5447, 6349,  359, 8263],\n",
       "       [1009, 7844, 2924, 5593, 8263,   60, 5125, 3130, 6324, 5230],\n",
       "       [1009, 3988, 7371, 5719, 5593, 4494, 7844, 8263, 2924, 7541],\n",
       "       [ 359, 4704, 2870, 2803, 2924,  309, 5369, 3130, 6249,  520],\n",
       "       [5369,  359,  199, 5212, 8655,  855, 5170,  309, 7845, 7085],\n",
       "       [6349, 3130, 8605, 8655, 6324,   60, 3149, 1230, 6434, 3270]],\n",
       "      dtype=int64)"
      ]
     },
     "execution_count": 16,
     "metadata": {},
     "output_type": "execute_result"
    }
   ],
   "source": [
    "common_words = kmeans.cluster_centers_.argsort()#[:,-1:-10:-1]\n",
    "common_words[:,-1:-11:-1]"
   ]
  },
  {
   "cell_type": "code",
   "execution_count": 17,
   "metadata": {},
   "outputs": [
    {
     "name": "stdout",
     "output_type": "stream",
     "text": [
      "0 : vineyard, apple, oak, lemon, pear, site, finish, acidity, minerality, estate\n",
      "1 : spice, aroma, apple, note, finish, palate, pear, flavor, fresh, lead\n",
      "2 : new, french, oak, flavor, fruit, aged, apple, month, barrel, note\n",
      "3 : fruit, flavor, finish, citrus, apple, aroma, palate, tropical, peach, white\n",
      "4 : dry, flavor, acidity, crisp, oak, bone, pineapple, lime, minerally, fruit\n",
      "5 : tight, mineral, crisp, texture, acidity, fruit, character, still, citrus, blanc\n",
      "6 : fruity, ready, attractive, soft, acidity, crisp, light, texture, fresh, aftertaste\n",
      "7 : simple, sweet, pineapple, flavor, orange, sugary, apricot, juice, vanilla, jam\n",
      "8 : medium, bodied, finish, apple, flavor, aroma, note, palate, pear, fruit\n",
      "9 : nose, lemon, palate, lime, apple, bottling, show, aroma, pear, pith\n",
      "10 : fermented, barrel, stainless, steel, aged, oak, fruit, french, flavor, apple\n",
      "11 : year, age, fruit, wood, ripe, aging, structure, acidity, need, rich\n",
      "12 : salt, sea, nose, lemon, bottling, palate, show, apple, butter, aroma\n",
      "13 : like, taste, smell, flavor, sweet, finish, aroma, fruit, pear, apple\n",
      "14 : pineapple, flavor, oak, acidity, rich, tropical, ripe, fruit, smoky, vanilla\n",
      "15 : full, bodied, flavor, finish, apple, rich, pear, ripe, aroma, vanilla\n",
      "16 : buttered, toast, flavor, pineapple, vanilla, acidity, oak, fruit, rich, orange\n",
      "17 : buttered, jam, style, popular, pineapple, made, toast, vanilla, flavor, sweet\n",
      "18 : aroma, melon, finish, feel, flavor, apple, palate, fruit, resiny, banana\n",
      "19 : palate, aroma, alongside, open, yellow, bread, offer, apple, toasted, sparkler\n",
      "20 : ripe, fruit, wood, yellow, rich, acidity, full, character, rounded, give\n"
     ]
    }
   ],
   "source": [
    "#common_words = kmeans.cluster_centers_.argsort()[:,-1:-11:-1]\n",
    "common_words = kmeans.cluster_centers_.argsort()[:,-1:-11:-1]\n",
    "for num, centroid in enumerate(common_words):\n",
    "    print(str(num) + ' : ' + ', '.join(words[word] for word in centroid))"
   ]
  },
  {
   "cell_type": "code",
   "execution_count": 18,
   "metadata": {},
   "outputs": [],
   "source": [
    "ratings = df['rating'].unique()\n",
    "ratings\n",
    "df['cluster'] = kmeans.labels_"
   ]
  },
  {
   "cell_type": "code",
   "execution_count": 19,
   "metadata": {},
   "outputs": [
    {
     "data": {
      "image/png": "[encoded data removed]",
      "text/plain": [
       "<Figure size 1872x1080 with 2 Axes>"
      ]
     },
     "metadata": {
      "needs_background": "light"
     },
     "output_type": "display_data"
    }
   ],
   "source": [
    "clusters = df.groupby(['cluster', 'rating']).size()\n",
    "fig, ax1 = plt.subplots(figsize = (26, 15))\n",
    "sns.heatmap(clusters.unstack(level = 'rating'), ax = ax1, cmap = 'Reds')\n",
    "\n",
    "ax1.set_xlabel('Rating').set_size(18)\n",
    "ax1.set_ylabel('Cluster').set_size(18)\n"
   ]
  },
  {
   "cell_type": "code",
   "execution_count": 20,
   "metadata": {},
   "outputs": [
    {
     "data": {
      "image/png": "[encoded data removed]",
      "text/plain": [
       "<Figure size 2160x1080 with 2 Axes>"
      ]
     },
     "metadata": {
      "needs_background": "light"
     },
     "output_type": "display_data"
    }
   ],
   "source": [
    "clusters = df.groupby(['cluster', 'above_avg']).size()\n",
    "fig2, ax2 = plt.subplots(figsize = (30, 15))\n",
    "sns.heatmap(clusters.unstack(level = 'above_avg'), ax = ax2, cmap=\"Reds\")\n",
    "\n",
    "ax2.set_xlabel('Above Average Rating').set_size(18)\n",
    "ax2.set_ylabel('Cluster').set_size(18)"
   ]
  },
  {
   "cell_type": "code",
   "execution_count": 21,
   "metadata": {},
   "outputs": [
    {
     "data": {
      "image/png": "[encoded data removed]",
      "text/plain": [
       "<Figure size 1008x288 with 1 Axes>"
      ]
     },
     "metadata": {
      "needs_background": "light"
     },
     "output_type": "display_data"
    }
   ],
   "source": [
    "plt.figure(figsize=(14,4))\n",
    "sns.countplot(x='cluster', data=df).set_title(\"Rating Counts\")\n",
    "plt.show()\n"
   ]
  },
  {
   "cell_type": "code",
   "execution_count": 22,
   "metadata": {},
   "outputs": [
    {
     "data": {
      "text/html": [
       "<div>\n",
       "<style scoped>\n",
       "    .dataframe tbody tr th:only-of-type {\n",
       "        vertical-align: middle;\n",
       "    }\n",
       "\n",
       "    .dataframe tbody tr th {\n",
       "        vertical-align: top;\n",
       "    }\n",
       "\n",
       "    .dataframe thead th {\n",
       "        text-align: right;\n",
       "    }\n",
       "</style>\n",
       "<table border=\"1\" class=\"dataframe\">\n",
       "  <thead>\n",
       "    <tr style=\"text-align: right;\">\n",
       "      <th></th>\n",
       "      <th>rating</th>\n",
       "      <th>price</th>\n",
       "      <th>word_count</th>\n",
       "      <th>above_avg</th>\n",
       "      <th>cluster</th>\n",
       "    </tr>\n",
       "  </thead>\n",
       "  <tbody>\n",
       "    <tr>\n",
       "      <th>count</th>\n",
       "      <td>4629.000000</td>\n",
       "      <td>4629.000000</td>\n",
       "      <td>4629.000000</td>\n",
       "      <td>4629.0</td>\n",
       "      <td>4629.000000</td>\n",
       "    </tr>\n",
       "    <tr>\n",
       "      <th>mean</th>\n",
       "      <td>91.295528</td>\n",
       "      <td>50.236120</td>\n",
       "      <td>44.047526</td>\n",
       "      <td>1.0</td>\n",
       "      <td>7.983150</td>\n",
       "    </tr>\n",
       "    <tr>\n",
       "      <th>std</th>\n",
       "      <td>1.763436</td>\n",
       "      <td>59.810878</td>\n",
       "      <td>9.983192</td>\n",
       "      <td>0.0</td>\n",
       "      <td>6.266322</td>\n",
       "    </tr>\n",
       "    <tr>\n",
       "      <th>min</th>\n",
       "      <td>89.000000</td>\n",
       "      <td>8.000000</td>\n",
       "      <td>14.000000</td>\n",
       "      <td>1.0</td>\n",
       "      <td>0.000000</td>\n",
       "    </tr>\n",
       "    <tr>\n",
       "      <th>25%</th>\n",
       "      <td>90.000000</td>\n",
       "      <td>29.000000</td>\n",
       "      <td>37.000000</td>\n",
       "      <td>1.0</td>\n",
       "      <td>3.000000</td>\n",
       "    </tr>\n",
       "    <tr>\n",
       "      <th>50%</th>\n",
       "      <td>91.000000</td>\n",
       "      <td>39.000000</td>\n",
       "      <td>43.000000</td>\n",
       "      <td>1.0</td>\n",
       "      <td>8.000000</td>\n",
       "    </tr>\n",
       "    <tr>\n",
       "      <th>75%</th>\n",
       "      <td>92.000000</td>\n",
       "      <td>55.000000</td>\n",
       "      <td>50.000000</td>\n",
       "      <td>1.0</td>\n",
       "      <td>13.000000</td>\n",
       "    </tr>\n",
       "    <tr>\n",
       "      <th>max</th>\n",
       "      <td>100.000000</td>\n",
       "      <td>2013.000000</td>\n",
       "      <td>92.000000</td>\n",
       "      <td>1.0</td>\n",
       "      <td>20.000000</td>\n",
       "    </tr>\n",
       "  </tbody>\n",
       "</table>\n",
       "</div>"
      ],
      "text/plain": [
       "            rating        price   word_count  above_avg      cluster\n",
       "count  4629.000000  4629.000000  4629.000000  4629.0     4629.000000\n",
       "mean   91.295528    50.236120    44.047526    1.0        7.983150   \n",
       "std    1.763436     59.810878    9.983192     0.0        6.266322   \n",
       "min    89.000000    8.000000     14.000000    1.0        0.000000   \n",
       "25%    90.000000    29.000000    37.000000    1.0        3.000000   \n",
       "50%    91.000000    39.000000    43.000000    1.0        8.000000   \n",
       "75%    92.000000    55.000000    50.000000    1.0        13.000000  \n",
       "max    100.000000   2013.000000  92.000000    1.0        20.000000  "
      ]
     },
     "execution_count": 22,
     "metadata": {},
     "output_type": "execute_result"
    }
   ],
   "source": [
    "above_avg = df.loc[df['above_avg'] == 1]\n",
    "above_avg.describe()"
   ]
  },
  {
   "cell_type": "code",
   "execution_count": 23,
   "metadata": {},
   "outputs": [
    {
     "data": {
      "text/html": [
       "<div>\n",
       "<style scoped>\n",
       "    .dataframe tbody tr th:only-of-type {\n",
       "        vertical-align: middle;\n",
       "    }\n",
       "\n",
       "    .dataframe tbody tr th {\n",
       "        vertical-align: top;\n",
       "    }\n",
       "\n",
       "    .dataframe thead th {\n",
       "        text-align: right;\n",
       "    }\n",
       "</style>\n",
       "<table border=\"1\" class=\"dataframe\">\n",
       "  <thead>\n",
       "    <tr style=\"text-align: right;\">\n",
       "      <th></th>\n",
       "      <th>rating</th>\n",
       "      <th>price</th>\n",
       "      <th>word_count</th>\n",
       "      <th>above_avg</th>\n",
       "      <th>cluster</th>\n",
       "    </tr>\n",
       "  </thead>\n",
       "  <tbody>\n",
       "    <tr>\n",
       "      <th>count</th>\n",
       "      <td>5605.000000</td>\n",
       "      <td>5605.000000</td>\n",
       "      <td>5605.000000</td>\n",
       "      <td>5605.0</td>\n",
       "      <td>5605.000000</td>\n",
       "    </tr>\n",
       "    <tr>\n",
       "      <th>mean</th>\n",
       "      <td>85.796253</td>\n",
       "      <td>21.884032</td>\n",
       "      <td>33.686173</td>\n",
       "      <td>0.0</td>\n",
       "      <td>9.218733</td>\n",
       "    </tr>\n",
       "    <tr>\n",
       "      <th>std</th>\n",
       "      <td>1.858259</td>\n",
       "      <td>11.764816</td>\n",
       "      <td>9.374124</td>\n",
       "      <td>0.0</td>\n",
       "      <td>6.256443</td>\n",
       "    </tr>\n",
       "    <tr>\n",
       "      <th>min</th>\n",
       "      <td>80.000000</td>\n",
       "      <td>4.000000</td>\n",
       "      <td>3.000000</td>\n",
       "      <td>0.0</td>\n",
       "      <td>0.000000</td>\n",
       "    </tr>\n",
       "    <tr>\n",
       "      <th>25%</th>\n",
       "      <td>85.000000</td>\n",
       "      <td>14.000000</td>\n",
       "      <td>27.000000</td>\n",
       "      <td>0.0</td>\n",
       "      <td>3.000000</td>\n",
       "    </tr>\n",
       "    <tr>\n",
       "      <th>50%</th>\n",
       "      <td>86.000000</td>\n",
       "      <td>19.000000</td>\n",
       "      <td>33.000000</td>\n",
       "      <td>0.0</td>\n",
       "      <td>8.000000</td>\n",
       "    </tr>\n",
       "    <tr>\n",
       "      <th>75%</th>\n",
       "      <td>87.000000</td>\n",
       "      <td>27.000000</td>\n",
       "      <td>40.000000</td>\n",
       "      <td>0.0</td>\n",
       "      <td>15.000000</td>\n",
       "    </tr>\n",
       "    <tr>\n",
       "      <th>max</th>\n",
       "      <td>88.000000</td>\n",
       "      <td>143.000000</td>\n",
       "      <td>89.000000</td>\n",
       "      <td>0.0</td>\n",
       "      <td>20.000000</td>\n",
       "    </tr>\n",
       "  </tbody>\n",
       "</table>\n",
       "</div>"
      ],
      "text/plain": [
       "            rating        price   word_count  above_avg      cluster\n",
       "count  5605.000000  5605.000000  5605.000000  5605.0     5605.000000\n",
       "mean   85.796253    21.884032    33.686173    0.0        9.218733   \n",
       "std    1.858259     11.764816    9.374124     0.0        6.256443   \n",
       "min    80.000000    4.000000     3.000000     0.0        0.000000   \n",
       "25%    85.000000    14.000000    27.000000    0.0        3.000000   \n",
       "50%    86.000000    19.000000    33.000000    0.0        8.000000   \n",
       "75%    87.000000    27.000000    40.000000    0.0        15.000000  \n",
       "max    88.000000    143.000000   89.000000    0.0        20.000000  "
      ]
     },
     "execution_count": 23,
     "metadata": {},
     "output_type": "execute_result"
    }
   ],
   "source": [
    "not_above = df.loc[df['above_avg'] == 0]\n",
    "not_above.describe()"
   ]
  },
  {
   "cell_type": "code",
   "execution_count": 24,
   "metadata": {},
   "outputs": [
    {
     "data": {
      "image/png": "[encoded data removed]",
      "text/plain": [
       "<Figure size 1008x288 with 1 Axes>"
      ]
     },
     "metadata": {
      "needs_background": "light"
     },
     "output_type": "display_data"
    }
   ],
   "source": [
    "plt.figure(figsize=(14,4))\n",
    "sns.countplot(x='cluster', data=not_above).set_title(\"Average or Below Rating Cluster Distribution\")\n",
    "plt.show()"
   ]
  },
  {
   "cell_type": "code",
   "execution_count": 25,
   "metadata": {},
   "outputs": [
    {
     "data": {
      "image/png": "[encoded data removed]",
      "text/plain": [
       "<Figure size 1008x288 with 1 Axes>"
      ]
     },
     "metadata": {
      "needs_background": "light"
     },
     "output_type": "display_data"
    }
   ],
   "source": [
    "plt.figure(figsize=(14,4))\n",
    "sns.countplot(x='cluster', data=above_avg).set_title(\"Above Average Rating Cluster Distribution\")\n",
    "plt.show()"
   ]
  },
  {
   "cell_type": "code",
   "execution_count": null,
   "metadata": {},
   "outputs": [],
   "source": []
  },
  {
   "cell_type": "code",
   "execution_count": null,
   "metadata": {},
   "outputs": [],
   "source": []
  },
  {
   "cell_type": "code",
   "execution_count": null,
   "metadata": {},
   "outputs": [],
   "source": []
  },
  {
   "cell_type": "code",
   "execution_count": null,
   "metadata": {},
   "outputs": [],
   "source": []
  },
  {
   "cell_type": "code",
   "execution_count": null,
   "metadata": {},
   "outputs": [],
   "source": []
  }
 ],
 "metadata": {
  "kernelspec": {
   "display_name": "Python 3",
   "language": "python",
   "name": "python3"
  },
  "language_info": {
   "codemirror_mode": {
    "name": "ipython",
    "version": 3
   },
   "file_extension": ".py",
   "mimetype": "text/x-python",
   "name": "python",
   "nbconvert_exporter": "python",
   "pygments_lexer": "ipython3",
   "version": "3.7.3"
  }
 },
 "nbformat": 4,
 "nbformat_minor": 2
}
